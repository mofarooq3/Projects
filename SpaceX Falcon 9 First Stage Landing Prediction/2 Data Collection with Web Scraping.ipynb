{
  "metadata": {
    "kernelspec": {
      "name": "python",
      "display_name": "Pyolite",
      "language": "python"
    },
    "language_info": {
      "codemirror_mode": {
        "name": "python",
        "version": 3
      },
      "file_extension": ".py",
      "mimetype": "text/x-python",
      "name": "python",
      "nbconvert_exporter": "python",
      "pygments_lexer": "ipython3",
      "version": "3.8"
    }
  },
  "nbformat_minor": 4,
  "nbformat": 4,
  "cells": [
    {
      "cell_type": "markdown",
      "source": "# **Space X  Falcon 9 First Stage Landing Prediction**\n",
      "metadata": {}
    },
    {
      "cell_type": "markdown",
      "source": "## Web scraping Falcon 9 and Falcon Heavy Launches Records from Wikipedia\n",
      "metadata": {}
    },
    {
      "cell_type": "markdown",
      "source": "Collect Falcon 9 historical launch records from a Wikipedia page titled `List of Falcon 9 and Falcon Heavy launches`\n\nhttps://en.wikipedia.org/wiki/List_of_Falcon_9_and_Falcon_Heavy_launches\n",
      "metadata": {}
    },
    {
      "cell_type": "markdown",
      "source": "More specifically, the launch records are stored in a HTML table shown below:\n",
      "metadata": {}
    },
    {
      "cell_type": "markdown",
      "source": "![](https://cf-courses-data.s3.us.cloud-object-storage.appdomain.cloud/IBM-DS0321EN-SkillsNetwork/labs/module_1_L2/images/falcon9-launches-wiki.png)\n",
      "metadata": {}
    },
    {
      "cell_type": "markdown",
      "source": "  ## Objectives\nWeb scrape Falcon 9 launch records with `BeautifulSoup`: \n- Extract a Falcon 9 launch records HTML table from Wikipedia\n- Parse the table and convert it into a Pandas data frame\n",
      "metadata": {}
    },
    {
      "cell_type": "code",
      "source": "!pip3 install beautifulsoup4\n!pip3 install requests",
      "metadata": {},
      "execution_count": 1,
      "outputs": [
        {
          "name": "stdout",
          "output_type": "stream",
          "text": "Requirement already satisfied: beautifulsoup4 in /home/jupyterlab/conda/envs/python/lib/python3.7/site-packages (4.11.1)\n\nRequirement already satisfied: soupsieve>1.2 in /home/jupyterlab/conda/envs/python/lib/python3.7/site-packages (from beautifulsoup4) (2.3.2.post1)\n\nRequirement already satisfied: requests in /home/jupyterlab/conda/envs/python/lib/python3.7/site-packages (2.28.1)\n\nRequirement already satisfied: charset-normalizer<3,>=2 in /home/jupyterlab/conda/envs/python/lib/python3.7/site-packages (from requests) (2.1.1)\n\nRequirement already satisfied: certifi>=2017.4.17 in /home/jupyterlab/conda/envs/python/lib/python3.7/site-packages (from requests) (2022.9.24)\n\nRequirement already satisfied: urllib3<1.27,>=1.21.1 in /home/jupyterlab/conda/envs/python/lib/python3.7/site-packages (from requests) (1.26.13)\n\nRequirement already satisfied: idna<4,>=2.5 in /home/jupyterlab/conda/envs/python/lib/python3.7/site-packages (from requests) (3.4)\n"
        }
      ]
    },
    {
      "cell_type": "code",
      "source": "import sys\n\nimport requests\nfrom bs4 import BeautifulSoup\nimport re\nimport unicodedata\nimport pandas as pd",
      "metadata": {},
      "execution_count": 2,
      "outputs": []
    },
    {
      "cell_type": "markdown",
      "source": "helper functions to process web scraped HTML table\n",
      "metadata": {}
    },
    {
      "cell_type": "code",
      "source": "def date_time(table_cells):\n    \"\"\"\n    This function returns the data and time from the HTML  table cell\n    Input: the  element of a table data cell extracts extra row\n    \"\"\"\n    return [data_time.strip() for data_time in list(table_cells.strings)][0:2]\n\ndef booster_version(table_cells):\n    \"\"\"\n    This function returns the booster version from the HTML  table cell \n    Input: the  element of a table data cell extracts extra row\n    \"\"\"\n    out=''.join([booster_version for i,booster_version in enumerate( table_cells.strings) if i%2==0][0:-1])\n    return out\n\ndef landing_status(table_cells):\n    \"\"\"\n    This function returns the landing status from the HTML table cell \n    Input: the  element of a table data cell extracts extra row\n    \"\"\"\n    out=[i for i in table_cells.strings][0]\n    return out\n\n\ndef get_mass(table_cells):\n    mass=unicodedata.normalize(\"NFKD\", table_cells.text).strip()\n    if mass:\n        mass.find(\"kg\")\n        new_mass=mass[0:mass.find(\"kg\")+2]\n    else:\n        new_mass=0\n    return new_mass\n\n\ndef extract_column_from_header(row):\n    \"\"\"\n    This function returns the landing status from the HTML table cell \n    Input: the  element of a table data cell extracts extra row\n    \"\"\"\n    if (row.br):\n        row.br.extract()\n    if row.a:\n        row.a.extract()\n    if row.sup:\n        row.sup.extract()\n        \n    colunm_name = ' '.join(row.contents)\n    \n    # Filter the digit and empty names\n    if not(colunm_name.strip().isdigit()):\n        colunm_name = colunm_name.strip()\n        return colunm_name    \n",
      "metadata": {},
      "execution_count": 3,
      "outputs": []
    },
    {
      "cell_type": "code",
      "source": "static_url = \"https://en.wikipedia.org/w/index.php?title=List_of_Falcon_9_and_Falcon_Heavy_launches&oldid=1027686922\"",
      "metadata": {},
      "execution_count": 4,
      "outputs": []
    },
    {
      "cell_type": "markdown",
      "source": "### Request the Falcon9 Launch Wiki page from its URL\n",
      "metadata": {}
    },
    {
      "cell_type": "code",
      "source": "response = requests.get(static_url)\nresponse.status_code",
      "metadata": {},
      "execution_count": 5,
      "outputs": [
        {
          "execution_count": 5,
          "output_type": "execute_result",
          "data": {
            "text/plain": [
              "200"
            ]
          },
          "metadata": {}
        }
      ]
    },
    {
      "cell_type": "markdown",
      "source": "##### Create a `BeautifulSoup` object from the response\n",
      "metadata": {}
    },
    {
      "cell_type": "code",
      "source": "soup = BeautifulSoup(response.text, 'lxml')",
      "metadata": {},
      "execution_count": 6,
      "outputs": []
    },
    {
      "cell_type": "code",
      "source": "soup.title",
      "metadata": {},
      "execution_count": 7,
      "outputs": [
        {
          "execution_count": 7,
          "output_type": "execute_result",
          "data": {
            "text/plain": [
              "<title>List of Falcon 9 and Falcon Heavy launches - Wikipedia</title>"
            ]
          },
          "metadata": {}
        }
      ]
    },
    {
      "cell_type": "markdown",
      "source": "### Extract all column/variable names from the HTML table header\n",
      "metadata": {}
    },
    {
      "cell_type": "code",
      "source": "html_tables = soup.find_all('table')",
      "metadata": {},
      "execution_count": 8,
      "outputs": []
    },
    {
      "cell_type": "markdown",
      "source": "Starting from the third table, which is the target table containing the actual launch records.\n",
      "metadata": {}
    },
    {
      "cell_type": "code",
      "source": "first_launch_table = html_tables[2]\nprint(first_launch_table)",
      "metadata": {},
      "execution_count": 9,
      "outputs": [
        {
          "name": "stdout",
          "output_type": "stream",
          "text": "<table class=\"wikitable plainrowheaders collapsible\" style=\"width: 100%;\">\n\n<tbody><tr>\n\n<th scope=\"col\">Flight No.\n\n</th>\n\n<th scope=\"col\">Date and<br/>time (<a href=\"/wiki/Coordinated_Universal_Time\" title=\"Coordinated Universal Time\">UTC</a>)\n\n</th>\n\n<th scope=\"col\"><a href=\"/wiki/List_of_Falcon_9_first-stage_boosters\" title=\"List of Falcon 9 first-stage boosters\">Version,<br/>Booster</a> <sup class=\"reference\" id=\"cite_ref-booster_11-0\"><a href=\"#cite_note-booster-11\">[b]</a></sup>\n\n</th>\n\n<th scope=\"col\">Launch site\n\n</th>\n\n<th scope=\"col\">Payload<sup class=\"reference\" id=\"cite_ref-Dragon_12-0\"><a href=\"#cite_note-Dragon-12\">[c]</a></sup>\n\n</th>\n\n<th scope=\"col\">Payload mass\n\n</th>\n\n<th scope=\"col\">Orbit\n\n</th>\n\n<th scope=\"col\">Customer\n\n</th>\n\n<th scope=\"col\">Launch<br/>outcome\n\n</th>\n\n<th scope=\"col\"><a href=\"/wiki/Falcon_9_first-stage_landing_tests\" title=\"Falcon 9 first-stage landing tests\">Booster<br/>landing</a>\n\n</th></tr>\n\n<tr>\n\n<th rowspan=\"2\" scope=\"row\" style=\"text-align:center;\">1\n\n</th>\n\n<td>4 June 2010,<br/>18:45\n\n</td>\n\n<td><a href=\"/wiki/Falcon_9_v1.0\" title=\"Falcon 9 v1.0\">F9 v1.0</a><sup class=\"reference\" id=\"cite_ref-MuskMay2012_13-0\"><a href=\"#cite_note-MuskMay2012-13\">[7]</a></sup><br/>B0003.1<sup class=\"reference\" id=\"cite_ref-block_numbers_14-0\"><a href=\"#cite_note-block_numbers-14\">[8]</a></sup>\n\n</td>\n\n<td><a href=\"/wiki/Cape_Canaveral_Space_Force_Station\" title=\"Cape Canaveral Space Force Station\">CCAFS</a>,<br/><a href=\"/wiki/Cape_Canaveral_Space_Launch_Complex_40\" title=\"Cape Canaveral Space Launch Complex 40\">SLC-40</a>\n\n</td>\n\n<td><a href=\"/wiki/Dragon_Spacecraft_Qualification_Unit\" title=\"Dragon Spacecraft Qualification Unit\">Dragon Spacecraft Qualification Unit</a>\n\n</td>\n\n<td>\n\n</td>\n\n<td><a href=\"/wiki/Low_Earth_orbit\" title=\"Low Earth orbit\">LEO</a>\n\n</td>\n\n<td><a href=\"/wiki/SpaceX\" title=\"SpaceX\">SpaceX</a>\n\n</td>\n\n<td class=\"table-success\" style=\"background: #9EFF9E; vertical-align: middle; text-align: center;\">Success\n\n</td>\n\n<td class=\"table-failure\" style=\"background: #FFC7C7; vertical-align: middle; text-align: center;\">Failure<sup class=\"reference\" id=\"cite_ref-ns20110930_15-0\"><a href=\"#cite_note-ns20110930-15\">[9]</a></sup><sup class=\"reference\" id=\"cite_ref-16\"><a href=\"#cite_note-16\">[10]</a></sup><br/><small>(parachute)</small>\n\n</td></tr>\n\n<tr>\n\n<td colspan=\"9\">First flight of Falcon 9 v1.0.<sup class=\"reference\" id=\"cite_ref-sfn20100604_17-0\"><a href=\"#cite_note-sfn20100604-17\">[11]</a></sup> Used a boilerplate version of Dragon capsule which was not designed to separate from the second stage.<small>(<a href=\"#First_flight_of_Falcon_9\">more details below</a>)</small> Attempted to recover the first stage by parachuting it into the ocean, but it burned up on reentry, before the parachutes even deployed.<sup class=\"reference\" id=\"cite_ref-parachute_18-0\"><a href=\"#cite_note-parachute-18\">[12]</a></sup>\n\n</td></tr>\n\n<tr>\n\n<th rowspan=\"2\" scope=\"row\" style=\"text-align:center;\">2\n\n</th>\n\n<td>8 December 2010,<br/>15:43<sup class=\"reference\" id=\"cite_ref-spaceflightnow_Clark_Launch_Report_19-0\"><a href=\"#cite_note-spaceflightnow_Clark_Launch_Report-19\">[13]</a></sup>\n\n</td>\n\n<td><a href=\"/wiki/Falcon_9_v1.0\" title=\"Falcon 9 v1.0\">F9 v1.0</a><sup class=\"reference\" id=\"cite_ref-MuskMay2012_13-1\"><a href=\"#cite_note-MuskMay2012-13\">[7]</a></sup><br/>B0004.1<sup class=\"reference\" id=\"cite_ref-block_numbers_14-1\"><a href=\"#cite_note-block_numbers-14\">[8]</a></sup>\n\n</td>\n\n<td><a href=\"/wiki/Cape_Canaveral_Space_Force_Station\" title=\"Cape Canaveral Space Force Station\">CCAFS</a>,<br/><a href=\"/wiki/Cape_Canaveral_Space_Launch_Complex_40\" title=\"Cape Canaveral Space Launch Complex 40\">SLC-40</a>\n\n</td>\n\n<td><a href=\"/wiki/SpaceX_Dragon\" title=\"SpaceX Dragon\">Dragon</a> <a class=\"mw-redirect\" href=\"/wiki/COTS_Demo_Flight_1\" title=\"COTS Demo Flight 1\">demo flight C1</a><br/>(Dragon C101)\n\n</td>\n\n<td>\n\n</td>\n\n<td><a href=\"/wiki/Low_Earth_orbit\" title=\"Low Earth orbit\">LEO</a> (<a href=\"/wiki/International_Space_Station\" title=\"International Space Station\">ISS</a>)\n\n</td>\n\n<td><style data-mw-deduplicate=\"TemplateStyles:r1126788409\">.mw-parser-output .plainlist ol,.mw-parser-output .plainlist ul{line-height:inherit;list-style:none;margin:0;padding:0}.mw-parser-output .plainlist ol li,.mw-parser-output .plainlist ul li{margin-bottom:0}</style><div class=\"plainlist\">\n\n<ul><li><a href=\"/wiki/NASA\" title=\"NASA\">NASA</a> (<a href=\"/wiki/Commercial_Orbital_Transportation_Services\" title=\"Commercial Orbital Transportation Services\">COTS</a>)</li>\n\n<li><a href=\"/wiki/National_Reconnaissance_Office\" title=\"National Reconnaissance Office\">NRO</a></li></ul>\n\n</div>\n\n</td>\n\n<td class=\"table-success\" style=\"background: #9EFF9E; vertical-align: middle; text-align: center;\">Success<sup class=\"reference\" id=\"cite_ref-ns20110930_15-1\"><a href=\"#cite_note-ns20110930-15\">[9]</a></sup>\n\n</td>\n\n<td class=\"table-failure\" style=\"background: #FFC7C7; vertical-align: middle; text-align: center;\">Failure<sup class=\"reference\" id=\"cite_ref-ns20110930_15-2\"><a href=\"#cite_note-ns20110930-15\">[9]</a></sup><sup class=\"reference\" id=\"cite_ref-20\"><a href=\"#cite_note-20\">[14]</a></sup><br/><small>(parachute)</small>\n\n</td></tr>\n\n<tr>\n\n<td colspan=\"9\">Maiden flight of <a class=\"mw-redirect\" href=\"/wiki/Dragon_capsule\" title=\"Dragon capsule\">Dragon capsule</a>, consisting of over 3 hours of testing thruster maneuvering and reentry.<sup class=\"reference\" id=\"cite_ref-spaceflightnow_Clark_unleashing_Dragon_21-0\"><a href=\"#cite_note-spaceflightnow_Clark_unleashing_Dragon-21\">[15]</a></sup> Attempted to recover the first stage by parachuting it into the ocean, but it disintegrated upon reentry, before the parachutes were deployed.<sup class=\"reference\" id=\"cite_ref-parachute_18-1\"><a href=\"#cite_note-parachute-18\">[12]</a></sup> <small>(<a href=\"#COTS_demo_missions\">more details below</a>)</small> It also included two <a href=\"/wiki/CubeSat\" title=\"CubeSat\">CubeSats</a>,<sup class=\"reference\" id=\"cite_ref-NRO_Taps_Boeing_for_Next_Batch_of_CubeSats_22-0\"><a href=\"#cite_note-NRO_Taps_Boeing_for_Next_Batch_of_CubeSats-22\">[16]</a></sup> and a wheel of <a href=\"/wiki/Brou%C3%A8re\" title=\"Brouère\">Brouère</a> cheese.\n\n</td></tr>\n\n<tr>\n\n<th rowspan=\"2\" scope=\"row\" style=\"text-align:center;\">3\n\n</th>\n\n<td>22 May 2012,<br/>07:44<sup class=\"reference\" id=\"cite_ref-BBC_new_era_23-0\"><a href=\"#cite_note-BBC_new_era-23\">[17]</a></sup>\n\n</td>\n\n<td><a href=\"/wiki/Falcon_9_v1.0\" title=\"Falcon 9 v1.0\">F9 v1.0</a><sup class=\"reference\" id=\"cite_ref-MuskMay2012_13-2\"><a href=\"#cite_note-MuskMay2012-13\">[7]</a></sup><br/>B0005.1<sup class=\"reference\" id=\"cite_ref-block_numbers_14-2\"><a href=\"#cite_note-block_numbers-14\">[8]</a></sup>\n\n</td>\n\n<td><a href=\"/wiki/Cape_Canaveral_Space_Force_Station\" title=\"Cape Canaveral Space Force Station\">CCAFS</a>,<br/><a href=\"/wiki/Cape_Canaveral_Space_Launch_Complex_40\" title=\"Cape Canaveral Space Launch Complex 40\">SLC-40</a>\n\n</td>\n\n<td><a href=\"/wiki/SpaceX_Dragon\" title=\"SpaceX Dragon\">Dragon</a> <a class=\"mw-redirect\" href=\"/wiki/Dragon_C2%2B\" title=\"Dragon C2+\">demo flight C2+</a><sup class=\"reference\" id=\"cite_ref-C2_24-0\"><a href=\"#cite_note-C2-24\">[18]</a></sup><br/>(Dragon C102)\n\n</td>\n\n<td>525 kg (1,157 lb)<sup class=\"reference\" id=\"cite_ref-25\"><a href=\"#cite_note-25\">[19]</a></sup>\n\n</td>\n\n<td><a href=\"/wiki/Low_Earth_orbit\" title=\"Low Earth orbit\">LEO</a> (<a href=\"/wiki/International_Space_Station\" title=\"International Space Station\">ISS</a>)\n\n</td>\n\n<td><a href=\"/wiki/NASA\" title=\"NASA\">NASA</a> (<a href=\"/wiki/Commercial_Orbital_Transportation_Services\" title=\"Commercial Orbital Transportation Services\">COTS</a>)\n\n</td>\n\n<td class=\"table-success\" style=\"background: #9EFF9E; vertical-align: middle; text-align: center;\">Success<sup class=\"reference\" id=\"cite_ref-26\"><a href=\"#cite_note-26\">[20]</a></sup>\n\n</td>\n\n<td class=\"table-noAttempt\" style=\"background: #EEE; vertical-align: middle; white-space: nowrap; text-align: center;\">No attempt\n\n</td></tr>\n\n<tr>\n\n<td colspan=\"9\">Dragon spacecraft demonstrated a series of tests before it was allowed to approach the <a href=\"/wiki/International_Space_Station\" title=\"International Space Station\">International Space Station</a>. Two days later, it became the first commercial spacecraft to board the ISS.<sup class=\"reference\" id=\"cite_ref-BBC_new_era_23-1\"><a href=\"#cite_note-BBC_new_era-23\">[17]</a></sup> <small>(<a href=\"#COTS_demo_missions\">more details below</a>)</small>\n\n</td></tr>\n\n<tr>\n\n<th rowspan=\"3\" scope=\"row\" style=\"text-align:center;\">4\n\n</th>\n\n<td rowspan=\"2\">8 October 2012,<br/>00:35<sup class=\"reference\" id=\"cite_ref-SFN_LLog_27-0\"><a href=\"#cite_note-SFN_LLog-27\">[21]</a></sup>\n\n</td>\n\n<td rowspan=\"2\"><a href=\"/wiki/Falcon_9_v1.0\" title=\"Falcon 9 v1.0\">F9 v1.0</a><sup class=\"reference\" id=\"cite_ref-MuskMay2012_13-3\"><a href=\"#cite_note-MuskMay2012-13\">[7]</a></sup><br/>B0006.1<sup class=\"reference\" id=\"cite_ref-block_numbers_14-3\"><a href=\"#cite_note-block_numbers-14\">[8]</a></sup>\n\n</td>\n\n<td rowspan=\"2\"><a href=\"/wiki/Cape_Canaveral_Space_Force_Station\" title=\"Cape Canaveral Space Force Station\">CCAFS</a>,<br/><a href=\"/wiki/Cape_Canaveral_Space_Launch_Complex_40\" title=\"Cape Canaveral Space Launch Complex 40\">SLC-40</a>\n\n</td>\n\n<td><a href=\"/wiki/SpaceX_CRS-1\" title=\"SpaceX CRS-1\">SpaceX CRS-1</a><sup class=\"reference\" id=\"cite_ref-sxManifest20120925_28-0\"><a href=\"#cite_note-sxManifest20120925-28\">[22]</a></sup><br/>(Dragon C103)\n\n</td>\n\n<td>4,700 kg (10,400 lb)\n\n</td>\n\n<td><a href=\"/wiki/Low_Earth_orbit\" title=\"Low Earth orbit\">LEO</a> (<a href=\"/wiki/International_Space_Station\" title=\"International Space Station\">ISS</a>)\n\n</td>\n\n<td><a href=\"/wiki/NASA\" title=\"NASA\">NASA</a> (<a href=\"/wiki/Commercial_Resupply_Services\" title=\"Commercial Resupply Services\">CRS</a>)\n\n</td>\n\n<td class=\"table-success\" style=\"background: #9EFF9E; vertical-align: middle; text-align: center;\">Success\n\n</td>\n\n<td rowspan=\"2\" style=\"background:#ececec; text-align:center;\"><span class=\"nowrap\">No attempt</span>\n\n</td></tr>\n\n<tr>\n\n<td><a href=\"/wiki/Orbcomm_(satellite)\" title=\"Orbcomm (satellite)\">Orbcomm-OG2</a><sup class=\"reference\" id=\"cite_ref-Orbcomm_29-0\"><a href=\"#cite_note-Orbcomm-29\">[23]</a></sup>\n\n</td>\n\n<td>172 kg (379 lb)<sup class=\"reference\" id=\"cite_ref-gunter-og2_30-0\"><a href=\"#cite_note-gunter-og2-30\">[24]</a></sup>\n\n</td>\n\n<td><a href=\"/wiki/Low_Earth_orbit\" title=\"Low Earth orbit\">LEO</a>\n\n</td>\n\n<td><a href=\"/wiki/Orbcomm\" title=\"Orbcomm\">Orbcomm</a>\n\n</td>\n\n<td class=\"table-partial\" style=\"background: #FE9; vertical-align: middle; text-align: center;\">Partial failure<sup class=\"reference\" id=\"cite_ref-nyt-20121030_31-0\"><a href=\"#cite_note-nyt-20121030-31\">[25]</a></sup>\n\n</td></tr>\n\n<tr>\n\n<td colspan=\"9\">CRS-1 was successful, but the <a href=\"/wiki/Secondary_payload\" title=\"Secondary payload\">secondary payload</a> was inserted into an abnormally low orbit and subsequently lost. This was due to one of the nine <a href=\"/wiki/SpaceX_Merlin\" title=\"SpaceX Merlin\">Merlin engines</a> shutting down during the launch, and NASA declining a second reignition, as per <a href=\"/wiki/International_Space_Station\" title=\"International Space Station\">ISS</a> visiting vehicle safety rules, the primary payload owner is contractually allowed to decline a second reignition. NASA stated that this was because SpaceX could not guarantee a high enough likelihood of the second stage completing the second burn successfully which was required to avoid any risk of secondary payload's collision with the ISS.<sup class=\"reference\" id=\"cite_ref-OrbcommTotalLoss_32-0\"><a href=\"#cite_note-OrbcommTotalLoss-32\">[26]</a></sup><sup class=\"reference\" id=\"cite_ref-sn20121011_33-0\"><a href=\"#cite_note-sn20121011-33\">[27]</a></sup><sup class=\"reference\" id=\"cite_ref-34\"><a href=\"#cite_note-34\">[28]</a></sup>\n\n</td></tr>\n\n<tr>\n\n<th rowspan=\"2\" scope=\"row\" style=\"text-align:center;\">5\n\n</th>\n\n<td>1 March 2013,<br/>15:10\n\n</td>\n\n<td><a href=\"/wiki/Falcon_9_v1.0\" title=\"Falcon 9 v1.0\">F9 v1.0</a><sup class=\"reference\" id=\"cite_ref-MuskMay2012_13-4\"><a href=\"#cite_note-MuskMay2012-13\">[7]</a></sup><br/>B0007.1<sup class=\"reference\" id=\"cite_ref-block_numbers_14-4\"><a href=\"#cite_note-block_numbers-14\">[8]</a></sup>\n\n</td>\n\n<td><a href=\"/wiki/Cape_Canaveral_Space_Force_Station\" title=\"Cape Canaveral Space Force Station\">CCAFS</a>,<br/><a href=\"/wiki/Cape_Canaveral_Space_Launch_Complex_40\" title=\"Cape Canaveral Space Launch Complex 40\">SLC-40</a>\n\n</td>\n\n<td><a href=\"/wiki/SpaceX_CRS-2\" title=\"SpaceX CRS-2\">SpaceX CRS-2</a><sup class=\"reference\" id=\"cite_ref-sxManifest20120925_28-1\"><a href=\"#cite_note-sxManifest20120925-28\">[22]</a></sup><br/>(Dragon C104)\n\n</td>\n\n<td>4,877 kg (10,752 lb)\n\n</td>\n\n<td><a href=\"/wiki/Low_Earth_orbit\" title=\"Low Earth orbit\">LEO</a> (<a class=\"mw-redirect\" href=\"/wiki/ISS\" title=\"ISS\">ISS</a>)\n\n</td>\n\n<td><a href=\"/wiki/NASA\" title=\"NASA\">NASA</a> (<a href=\"/wiki/Commercial_Resupply_Services\" title=\"Commercial Resupply Services\">CRS</a>)\n\n</td>\n\n<td class=\"table-success\" style=\"background: #9EFF9E; vertical-align: middle; text-align: center;\">Success\n\n</td>\n\n<td class=\"table-noAttempt\" style=\"background: #EEE; vertical-align: middle; white-space: nowrap; text-align: center;\">No attempt\n\n</td></tr>\n\n<tr>\n\n<td colspan=\"9\">Last launch of the original Falcon 9 v1.0 <a href=\"/wiki/Launch_vehicle\" title=\"Launch vehicle\">launch vehicle</a>, first use of the unpressurized trunk section of Dragon.<sup class=\"reference\" id=\"cite_ref-sxf9_20110321_35-0\"><a href=\"#cite_note-sxf9_20110321-35\">[29]</a></sup>\n\n</td></tr>\n\n<tr>\n\n<th rowspan=\"2\" scope=\"row\" style=\"text-align:center;\">6\n\n</th>\n\n<td>29 September 2013,<br/>16:00<sup class=\"reference\" id=\"cite_ref-pa20130930_36-0\"><a href=\"#cite_note-pa20130930-36\">[30]</a></sup>\n\n</td>\n\n<td><a href=\"/wiki/Falcon_9_v1.1\" title=\"Falcon 9 v1.1\">F9 v1.1</a><sup class=\"reference\" id=\"cite_ref-MuskMay2012_13-5\"><a href=\"#cite_note-MuskMay2012-13\">[7]</a></sup><br/>B1003<sup class=\"reference\" id=\"cite_ref-block_numbers_14-5\"><a href=\"#cite_note-block_numbers-14\">[8]</a></sup>\n\n</td>\n\n<td><a class=\"mw-redirect\" href=\"/wiki/Vandenberg_Air_Force_Base\" title=\"Vandenberg Air Force Base\">VAFB</a>,<br/><a href=\"/wiki/Vandenberg_Space_Launch_Complex_4\" title=\"Vandenberg Space Launch Complex 4\">SLC-4E</a>\n\n</td>\n\n<td><a href=\"/wiki/CASSIOPE\" title=\"CASSIOPE\">CASSIOPE</a><sup class=\"reference\" id=\"cite_ref-sxManifest20120925_28-2\"><a href=\"#cite_note-sxManifest20120925-28\">[22]</a></sup><sup class=\"reference\" id=\"cite_ref-CASSIOPE_MDA_37-0\"><a href=\"#cite_note-CASSIOPE_MDA-37\">[31]</a></sup>\n\n</td>\n\n<td>500 kg (1,100 lb)\n\n</td>\n\n<td><a href=\"/wiki/Polar_orbit\" title=\"Polar orbit\">Polar orbit</a> <a href=\"/wiki/Low_Earth_orbit\" title=\"Low Earth orbit\">LEO</a>\n\n</td>\n\n<td><a href=\"/wiki/Maxar_Technologies\" title=\"Maxar Technologies\">MDA</a>\n\n</td>\n\n<td class=\"table-success\" style=\"background: #9EFF9E; vertical-align: middle; text-align: center;\">Success<sup class=\"reference\" id=\"cite_ref-pa20130930_36-1\"><a href=\"#cite_note-pa20130930-36\">[30]</a></sup>\n\n</td>\n\n<td class=\"table-no2\" style=\"background: #FFE3E3; color: black; vertical-align: middle; text-align: center;\">Uncontrolled<br/><small>(ocean)</small><sup class=\"reference\" id=\"cite_ref-ocean_landing_38-0\"><a href=\"#cite_note-ocean_landing-38\">[d]</a></sup>\n\n</td></tr>\n\n<tr>\n\n<td colspan=\"9\">First commercial mission with a private customer, first launch from Vandenberg, and demonstration flight of Falcon 9 v1.1 with an improved 13-tonne to LEO capacity.<sup class=\"reference\" id=\"cite_ref-sxf9_20110321_35-1\"><a href=\"#cite_note-sxf9_20110321-35\">[29]</a></sup> After separation from the second stage carrying Canadian commercial and scientific satellites, the first stage booster performed a controlled reentry,<sup class=\"reference\" id=\"cite_ref-39\"><a href=\"#cite_note-39\">[32]</a></sup> and an <a href=\"/wiki/Falcon_9_first-stage_landing_tests\" title=\"Falcon 9 first-stage landing tests\">ocean touchdown test</a> for the first time. This provided good test data, even though the booster started rolling as it neared the ocean, leading to the shutdown of the central engine as the roll depleted it of fuel, resulting in a hard impact with the ocean.<sup class=\"reference\" id=\"cite_ref-pa20130930_36-2\"><a href=\"#cite_note-pa20130930-36\">[30]</a></sup> This was the first known attempt of a rocket engine being lit to perform a supersonic retro propulsion, and allowed SpaceX to enter a public-private partnership with <a href=\"/wiki/NASA\" title=\"NASA\">NASA</a> and its Mars entry, descent, and landing technologies research projects.<sup class=\"reference\" id=\"cite_ref-40\"><a href=\"#cite_note-40\">[33]</a></sup> <small>(<a href=\"#Maiden_flight_of_v1.1\">more details below</a>)</small>\n\n</td></tr>\n\n<tr>\n\n<th rowspan=\"2\" scope=\"row\" style=\"text-align:center;\">7\n\n</th>\n\n<td>3 December 2013,<br/>22:41<sup class=\"reference\" id=\"cite_ref-sfn_wwls20130624_41-0\"><a href=\"#cite_note-sfn_wwls20130624-41\">[34]</a></sup>\n\n</td>\n\n<td><a href=\"/wiki/Falcon_9_v1.1\" title=\"Falcon 9 v1.1\">F9 v1.1</a><br/>B1004\n\n</td>\n\n<td><a href=\"/wiki/Cape_Canaveral_Space_Force_Station\" title=\"Cape Canaveral Space Force Station\">CCAFS</a>,<br/><a href=\"/wiki/Cape_Canaveral_Space_Launch_Complex_40\" title=\"Cape Canaveral Space Launch Complex 40\">SLC-40</a>\n\n</td>\n\n<td><a href=\"/wiki/SES-8\" title=\"SES-8\">SES-8</a><sup class=\"reference\" id=\"cite_ref-sxManifest20120925_28-3\"><a href=\"#cite_note-sxManifest20120925-28\">[22]</a></sup><sup class=\"reference\" id=\"cite_ref-spx-pr_42-0\"><a href=\"#cite_note-spx-pr-42\">[35]</a></sup><sup class=\"reference\" id=\"cite_ref-aw20110323_43-0\"><a href=\"#cite_note-aw20110323-43\">[36]</a></sup>\n\n</td>\n\n<td>3,170 kg (6,990 lb)\n\n</td>\n\n<td><a href=\"/wiki/Geostationary_transfer_orbit\" title=\"Geostationary transfer orbit\">GTO</a>\n\n</td>\n\n<td><a href=\"/wiki/SES_S.A.\" title=\"SES S.A.\">SES</a>\n\n</td>\n\n<td class=\"table-success\" style=\"background: #9EFF9E; vertical-align: middle; text-align: center;\">Success<sup class=\"reference\" id=\"cite_ref-SNMissionStatus7_44-0\"><a href=\"#cite_note-SNMissionStatus7-44\">[37]</a></sup>\n\n</td>\n\n<td class=\"table-noAttempt\" style=\"background: #EEE; vertical-align: middle; white-space: nowrap; text-align: center;\">No attempt<br/><sup class=\"reference\" id=\"cite_ref-sf10120131203_45-0\"><a href=\"#cite_note-sf10120131203-45\">[38]</a></sup>\n\n</td></tr>\n\n<tr>\n\n<td colspan=\"9\">First <a href=\"/wiki/Geostationary_transfer_orbit\" title=\"Geostationary transfer orbit\">Geostationary transfer orbit</a> (GTO) launch for Falcon 9,<sup class=\"reference\" id=\"cite_ref-spx-pr_42-1\"><a href=\"#cite_note-spx-pr-42\">[35]</a></sup> and first successful reignition of the second stage.<sup class=\"reference\" id=\"cite_ref-46\"><a href=\"#cite_note-46\">[39]</a></sup> SES-8 was inserted into a <a href=\"/wiki/Geostationary_transfer_orbit\" title=\"Geostationary transfer orbit\">Super-Synchronous Transfer Orbit</a> of 79,341 km (49,300 mi) in apogee with an <a href=\"/wiki/Orbital_inclination\" title=\"Orbital inclination\">inclination</a> of 20.55° to the <a href=\"/wiki/Equator\" title=\"Equator\">equator</a>.\n\n</td></tr></tbody></table>\n"
        }
      ]
    },
    {
      "cell_type": "markdown",
      "source": "##### Extract column name one by one\n",
      "metadata": {}
    },
    {
      "cell_type": "code",
      "source": "column_names = []\n\nfor row in first_launch_table.find_all('th'):\n    name = extract_column_from_header(row)\n    if name is not None and len(name)  > 0:\n        column_names.append(name)\n",
      "metadata": {},
      "execution_count": 10,
      "outputs": []
    },
    {
      "cell_type": "code",
      "source": "print(column_names)",
      "metadata": {},
      "execution_count": 11,
      "outputs": [
        {
          "name": "stdout",
          "output_type": "stream",
          "text": "['Flight No.', 'Date and time ( )', 'Launch site', 'Payload', 'Payload mass', 'Orbit', 'Customer', 'Launch outcome']\n"
        }
      ]
    },
    {
      "cell_type": "markdown",
      "source": "#### Create a data frame by parsing the launch HTML tables\n",
      "metadata": {}
    },
    {
      "cell_type": "code",
      "source": "launch_dict= dict.fromkeys(column_names)\n\n# Remove an irrelvant column\ndel launch_dict['Date and time ( )']\n\n# Let's initial the launch_dict with each value to be an empty list\nlaunch_dict['Flight No.'] = []\nlaunch_dict['Launch site'] = []\nlaunch_dict['Payload'] = []\nlaunch_dict['Payload mass'] = []\nlaunch_dict['Orbit'] = []\nlaunch_dict['Customer'] = []\nlaunch_dict['Launch outcome'] = []\n# Added some new columns\nlaunch_dict['Version Booster']=[]\nlaunch_dict['Booster landing']=[]\nlaunch_dict['Date']=[]\nlaunch_dict['Time']=[]\nprint(launch_dict)",
      "metadata": {},
      "execution_count": 12,
      "outputs": [
        {
          "name": "stdout",
          "output_type": "stream",
          "text": "{'Flight No.': [], 'Launch site': [], 'Payload': [], 'Payload mass': [], 'Orbit': [], 'Customer': [], 'Launch outcome': [], 'Version Booster': [], 'Booster landing': [], 'Date': [], 'Time': []}\n"
        }
      ]
    },
    {
      "cell_type": "markdown",
      "source": "##### Fill up the dictionary with launch records extracted from table rows\n",
      "metadata": {}
    },
    {
      "cell_type": "code",
      "source": "extracted_row = 0\n#Extract each table \nfor table_number,table in enumerate(soup.find_all('table',\"wikitable plainrowheaders collapsible\")):\n   # get table row \n    for rows in table.find_all(\"tr\"):\n        #check to see if first table heading is as number corresponding to launch a number \n        if rows.th:\n            if rows.th.string:\n                flight_number=rows.th.string.strip()\n                flag=flight_number.isdigit()\n        else:\n            flag=False\n        row=rows.find_all('td')\n        if flag:\n            extracted_row += 1\n            # Flight Number value\n            launch_dict['Flight No.'].append(flight_number)\n            print(flight_number)\n            datatimelist=date_time(row[0])\n            \n            # Date value\n            date = datatimelist[0].strip(',')\n            launch_dict['Date'].append(date)\n            print(date)\n            \n            # Time value\n            time = datatimelist[1]\n            launch_dict['Time'].append(time)\n            print(time)\n              \n            # Booster version\n            bv=booster_version(row[1])\n            if not(bv):\n                bv=row[1].a.string\n            launch_dict['Version Booster'].append(bv)\n            print(bv)\n            \n            # Launch Site\n            launch_site = row[2].a.string\n            launch_dict['Launch site'].append(launch_site)\n            print(launch_site)\n            \n            # Payload\n            payload = row[3].a.string\n            launch_dict['Payload'].append(payload)\n            print(payload)\n            \n            # Payload Mass\n            payload_mass = get_mass(row[4])\n            launch_dict['Payload mass'].append(payload_mass)\n            print(payload)\n            \n            # Orbit\n            orbit = row[5].a.string\n            launch_dict['Orbit'].append(orbit)\n            print(orbit)\n            \n            # Customer\n            customer = row[6].a.string if row[6].a else \"None\"\n            launch_dict['Customer'].append(customer)\n            print(customer)\n            \n            # Launch outcome\n            launch_outcome = list(row[7].strings)[0]\n            launch_dict['Launch outcome'].append(launch_outcome)\n            print(launch_outcome)\n            \n            # Booster landing\n            booster_landing = landing_status(row[8])\n            launch_dict['Booster landing'].append(booster_landing)\n            print(booster_landing)\n            \nprint(\"extracted rows: \", extracted_row)",
      "metadata": {},
      "execution_count": 13,
      "outputs": [
        {
          "name": "stdout",
          "output_type": "stream",
          "text": "1\n\n4 June 2010\n\n18:45\n\nF9 v1.0B0003.1\n\nCCAFS\n\nDragon Spacecraft Qualification Unit\n\nDragon Spacecraft Qualification Unit\n\nLEO\n\nSpaceX\n\nSuccess\n\n\n\nFailure\n\n2\n\n8 December 2010\n\n15:43\n\nF9 v1.0B0004.1\n\nCCAFS\n\nDragon\n\nDragon\n\nLEO\n\nNASA\n\nSuccess\n\nFailure\n\n3\n\n22 May 2012\n\n07:44\n\nF9 v1.0B0005.1\n\nCCAFS\n\nDragon\n\nDragon\n\nLEO\n\nNASA\n\nSuccess\n\nNo attempt\n\n\n\n4\n\n8 October 2012\n\n00:35\n\nF9 v1.0B0006.1\n\nCCAFS\n\nSpaceX CRS-1\n\nSpaceX CRS-1\n\nLEO\n\nNASA\n\nSuccess\n\n\n\nNo attempt\n\n5\n\n1 March 2013\n\n15:10\n\nF9 v1.0B0007.1\n\nCCAFS\n\nSpaceX CRS-2\n\nSpaceX CRS-2\n\nLEO\n\nNASA\n\nSuccess\n\n\n\nNo attempt\n\n\n\n6\n\n29 September 2013\n\n16:00\n\nF9 v1.1B1003\n\nVAFB\n\nCASSIOPE\n\nCASSIOPE\n\nPolar orbit\n\nMDA\n\nSuccess\n\nUncontrolled\n\n7\n\n3 December 2013\n\n22:41\n\nF9 v1.1\n\nCCAFS\n\nSES-8\n\nSES-8\n\nGTO\n\nSES\n\nSuccess\n\nNo attempt\n\n8\n\n6 January 2014\n\n22:06\n\nF9 v1.1\n\nCCAFS\n\nThaicom 6\n\nThaicom 6\n\nGTO\n\nThaicom\n\nSuccess\n\nNo attempt\n\n9\n\n18 April 2014\n\n19:25\n\nF9 v1.1\n\nCape Canaveral\n\nSpaceX CRS-3\n\nSpaceX CRS-3\n\nLEO\n\nNASA\n\nSuccess\n\n\n\nControlled\n\n10\n\n14 July 2014\n\n15:15\n\nF9 v1.1\n\nCape Canaveral\n\nOrbcomm-OG2\n\nOrbcomm-OG2\n\nLEO\n\nOrbcomm\n\nSuccess\n\nControlled\n\n11\n\n5 August 2014\n\n08:00\n\nF9 v1.1\n\nCape Canaveral\n\nAsiaSat 8\n\nAsiaSat 8\n\nGTO\n\nAsiaSat\n\nSuccess\n\nNo attempt\n\n12\n\n7 September 2014\n\n05:00\n\nF9 v1.1\n\nCape Canaveral\n\nAsiaSat 6\n\nAsiaSat 6\n\nGTO\n\nAsiaSat\n\nSuccess\n\nNo attempt\n\n\n\n13\n\n21 September 2014\n\n05:52\n\nF9 v1.1\n\nCape Canaveral\n\nSpaceX CRS-4\n\nSpaceX CRS-4\n\nLEO\n\nNASA\n\nSuccess\n\nUncontrolled\n\n14\n\n10 January 2015\n\n09:47\n\nF9 v1.1\n\nCape Canaveral\n\nSpaceX CRS-5\n\nSpaceX CRS-5\n\nLEO\n\nNASA\n\nSuccess\n\nFailure \n\n15\n\n11 February 2015\n\n23:03\n\nF9 v1.1\n\nCape Canaveral\n\nDSCOVR\n\nDSCOVR\n\nHEO\n\nUSAF\n\nSuccess\n\n\n\nControlled\n\n16\n\n2 March 2015\n\n03:50\n\nF9 v1.1\n\nCape Canaveral\n\nABS-3A\n\nABS-3A\n\nGTO\n\nABS\n\nSuccess\n\n\n\nNo attempt\n\n17\n\n14 April 2015\n\n20:10\n\nF9 v1.1\n\nCape Canaveral\n\nSpaceX CRS-6\n\nSpaceX CRS-6\n\nLEO\n\nNASA\n\nSuccess\n\n\n\nFailure\n\n18\n\n27 April 2015\n\n23:03\n\nF9 v1.1\n\nCape Canaveral\n\nTürkmenÄlem 52°E / MonacoSAT\n\nTürkmenÄlem 52°E / MonacoSAT\n\nGTO\n\nNone\n\nSuccess\n\n\n\nNo attempt\n\n19\n\n28 June 2015\n\n14:21\n\nF9 v1.1\n\nCape Canaveral\n\nSpaceX CRS-7\n\nSpaceX CRS-7\n\nLEO\n\nNASA\n\nFailure\n\nPrecluded\n\n20\n\n22 December 2015\n\n01:29\n\nF9 FT\n\nCape Canaveral\n\nOrbcomm-OG2\n\nOrbcomm-OG2\n\nLEO\n\nOrbcomm\n\nSuccess\n\n\n\nSuccess\n\n21\n\n17 January 2016\n\n18:42\n\nF9 v1.1\n\nVAFB\n\nJason-3\n\nJason-3\n\nLEO\n\nNASA\n\nSuccess\n\n\n\nFailure\n\n22\n\n4 March 2016\n\n23:35\n\nF9 FT\n\nCape Canaveral\n\nSES-9\n\nSES-9\n\nGTO\n\nSES\n\nSuccess\n\n\n\nFailure\n\n23\n\n8 April 2016\n\n20:43\n\nF9 FT\n\nCape Canaveral\n\nSpaceX CRS-8\n\nSpaceX CRS-8\n\nLEO\n\nNASA\n\nSuccess\n\nSuccess\n\n24\n\n6 May 2016\n\n05:21\n\nF9 FT\n\nCape Canaveral\n\nJCSAT-14\n\nJCSAT-14\n\nGTO\n\nSKY Perfect JSAT Group\n\nSuccess\n\n\n\nSuccess\n\n25\n\n27 May 2016\n\n21:39\n\nF9 FT\n\nCape Canaveral\n\nThaicom 8\n\nThaicom 8\n\nGTO\n\nThaicom\n\nSuccess\n\n\n\nSuccess\n\n26\n\n15 June 2016\n\n14:29\n\nF9 FT\n\nCape Canaveral\n\nABS-2A\n\nABS-2A\n\nGTO\n\nABS\n\nSuccess\n\n\n\nFailure\n\n27\n\n18 July 2016\n\n04:45\n\nF9 FT\n\nCape Canaveral\n\nSpaceX CRS-9\n\nSpaceX CRS-9\n\nLEO\n\nNASA\n\nSuccess\n\n\n\nSuccess\n\n28\n\n14 August 2016\n\n05:26\n\nF9 FT\n\nCape Canaveral\n\nJCSAT-16\n\nJCSAT-16\n\nGTO\n\nSKY Perfect JSAT Group\n\nSuccess\n\n\n\nSuccess\n\n29\n\n14 January 2017\n\n17:54\n\nF9 FT\n\nVAFB\n\nIridium NEXT\n\nIridium NEXT\n\nPolar\n\nIridium Communications\n\nSuccess\n\n\n\nSuccess\n\n30\n\n19 February 2017\n\n14:39\n\nF9 FT\n\nKSC\n\nSpaceX CRS-10\n\nSpaceX CRS-10\n\nLEO\n\nNASA\n\nSuccess\n\n\n\nSuccess\n\n31\n\n16 March 2017\n\n06:00\n\nF9 FT\n\nKSC\n\nEchoStar 23\n\nEchoStar 23\n\nGTO\n\nEchoStar\n\nSuccess\n\n\n\nNo attempt\n\n32\n\n30 March 2017\n\n22:27\n\nF9 FT♺\n\nKSC\n\nSES-10\n\nSES-10\n\nGTO\n\nSES\n\nSuccess\n\nSuccess\n\n33\n\n1 May 2017\n\n11:15\n\nF9 FT\n\nKSC\n\nNROL-76\n\nNROL-76\n\nLEO\n\nNRO\n\nSuccess\n\n\n\nSuccess\n\n34\n\n15 May 2017\n\n23:21\n\nF9 FT\n\nKSC\n\nInmarsat-5 F4\n\nInmarsat-5 F4\n\nGTO\n\nInmarsat\n\nSuccess\n\n\n\nNo attempt\n\n35\n\n3 June 2017\n\n21:07\n\nF9 FT\n\nKSC\n\nSpaceX CRS-11\n\nSpaceX CRS-11\n\nLEO\n\nNASA\n\nSuccess\n\n\n\nSuccess\n\n36\n\n23 June 2017\n\n19:10\n\nF9 FTB1029.2\n\nKSC\n\nBulgariaSat-1\n\nBulgariaSat-1\n\nGTO\n\nBulsatcom\n\nSuccess\n\n\n\nSuccess\n\n37\n\n25 June 2017\n\n20:25\n\nF9 FT\n\nVAFB\n\nIridium NEXT\n\nIridium NEXT\n\nLEO\n\nIridium Communications\n\nSuccess\n\n\n\nSuccess\n\n38\n\n5 July 2017\n\n23:38\n\nF9 FT\n\nKSC\n\nIntelsat 35e\n\nIntelsat 35e\n\nGTO\n\nIntelsat\n\nSuccess\n\n\n\nNo attempt\n\n39\n\n14 August 2017\n\n16:31\n\nF9 B4\n\nKSC\n\nSpaceX CRS-12\n\nSpaceX CRS-12\n\nLEO\n\nNASA\n\nSuccess\n\n\n\nSuccess\n\n40\n\n24 August 2017\n\n18:51\n\nF9 FT\n\nVAFB\n\nFormosat-5\n\nFormosat-5\n\nSSO\n\nNSPO\n\nSuccess\n\n\n\nSuccess\n\n41\n\n7 September 2017\n\n14:00\n\nF9 B4\n\nKSC\n\nBoeing X-37B\n\nBoeing X-37B\n\nLEO\n\nUSAF\n\nSuccess\n\n\n\nSuccess\n\n42\n\n9 October 2017\n\n12:37\n\nF9 B4\n\nVAFB\n\nIridium NEXT\n\nIridium NEXT\n\nPolar\n\nIridium Communications\n\nSuccess\n\n\n\nSuccess\n\n43\n\n11 October 2017\n\n22:53:00\n\nF9 FTB1031.2\n\nKSC\n\nSES-11\n\nSES-11\n\nGTO\n\nSES S.A.\n\nSuccess\n\n\n\nSuccess\n\n44\n\n30 October 2017\n\n19:34\n\nF9 B4\n\nKSC\n\nKoreasat 5A\n\nKoreasat 5A\n\nGTO\n\nKT Corporation\n\nSuccess\n\n\n\nSuccess\n\n45\n\n15 December 2017\n\n15:36\n\nF9 FTB1035.2\n\nCape Canaveral\n\nSpaceX CRS-13\n\nSpaceX CRS-13\n\nLEO\n\nNASA\n\nSuccess\n\n\n\nSuccess\n\n46\n\n23 December 2017\n\n01:27\n\nF9 FTB1036.2\n\nVAFB\n\nIridium NEXT\n\nIridium NEXT\n\nPolar\n\nIridium Communications\n\nSuccess\n\nControlled\n\n47\n\n8 January 2018\n\n01:00\n\nF9 B4\n\nCCAFS\n\nZuma\n\nZuma\n\nLEO\n\nNorthrop Grumman\n\nSuccess\n\nSuccess\n\n48\n\n31 January 2018\n\n21:25\n\nF9 FTB1032.2\n\nCCAFS\n\nGovSat-1\n\nGovSat-1\n\nGTO\n\nSES\n\nSuccess\n\nControlled\n\n49\n\n22 February 2018\n\n14:17\n\nF9 FTB1038.2\n\nVAFB\n\nPaz\n\nPaz\n\nSSO\n\nHisdesat\n\nSuccess\n\nNo attempt\n\n50\n\n6 March 2018\n\n05:33\n\nF9 B4\n\nCCAFS\n\nHispasat 30W-6\n\nHispasat 30W-6\n\nGTO\n\nHispasat\n\nSuccess\n\nNo attempt\n\n51\n\n30 March 2018\n\n14:14\n\nF9 B4B1041.2\n\nVAFB\n\nIridium NEXT\n\nIridium NEXT\n\nPolar\n\nIridium Communications\n\nSuccess\n\nNo attempt\n\n52\n\n2 April 2018\n\n20:30\n\nF9 B4B1039.2\n\nCCAFS\n\nSpaceX CRS-14\n\nSpaceX CRS-14\n\nLEO\n\nNASA\n\nSuccess\n\nNo attempt\n\n53\n\n18 April 2018\n\n22:51\n\nF9 B4\n\nCCAFS\n\nTransiting Exoplanet Survey Satellite\n\nTransiting Exoplanet Survey Satellite\n\nHEO\n\nNASA\n\nSuccess\n\nSuccess\n\n54\n\n11 May 2018\n\n20:14\n\nF9 B5B1046.1\n\nKSC\n\nBangabandhu-1\n\nBangabandhu-1\n\nGTO\n\nThales-Alenia\n\nSuccess\n\nSuccess\n\n55\n\n22 May 2018\n\n19:47\n\nF9 B4B1043.2\n\nVAFB\n\nIridium NEXT\n\nIridium NEXT\n\nPolar\n\nIridium Communications\n\nSuccess\n\nNo attempt\n\n56\n\n4 June 2018\n\n04:45\n\nF9 B4B1040.2\n\nCCAFS\n\nSES-12\n\nSES-12\n\nGTO\n\nSES\n\nSuccess\n\nNo attempt\n\n57\n\n29 June 2018\n\n09:42\n\nF9 B4B1045.2\n\nCCAFS\n\nSpaceX CRS-15\n\nSpaceX CRS-15\n\nLEO\n\nNASA\n\nSuccess\n\nNo attempt\n\n58\n\n22 July 2018\n\n05:50\n\nF9 B5\n\nCCAFS\n\nTelstar 19V\n\nTelstar 19V\n\nGTO\n\nTelesat\n\nSuccess\n\nSuccess\n\n59\n\n25 July 2018\n\n11:39\n\nF9 B5B1048\n\nVAFB\n\nIridium NEXT\n\nIridium NEXT\n\nPolar\n\nIridium Communications\n\nSuccess\n\nSuccess\n\n60\n\n7 August 2018\n\n05:18\n\nF9 B5B1046.2\n\nCCAFS\n\nMerah Putih\n\nMerah Putih\n\nGTO\n\nTelkom Indonesia\n\nSuccess\n\nSuccess\n\n61\n\n10 September 2018\n\n04:45\n\nF9 B5\n\nCCAFS\n\nTelstar 18V\n\nTelstar 18V\n\nGTO\n\nTelesat\n\nSuccess\n\nSuccess\n\n62\n\n8 October 2018\n\n02:22\n\nF9 B5B1048.2\n\nVAFB\n\nSAOCOM 1A\n\nSAOCOM 1A\n\nSSO\n\nCONAE\n\nSuccess\n\nSuccess\n\n63\n\n15 November 2018\n\n20:46\n\nF9 B5B1047.2\n\nKSC\n\nEs'hail 2\n\nEs'hail 2\n\nGTO\n\nEs'hailSat\n\nSuccess\n\nSuccess\n\n64\n\n3 December 2018\n\n18:34:05\n\nF9 B5B1046.3\n\nVAFB\n\nSSO-A\n\nSSO-A\n\nSSO\n\nSpaceflight Industries\n\nSuccess\n\nSuccess\n\n65\n\n5 December 2018\n\n18:16\n\nF9 B5\n\nCCAFS\n\nSpaceX CRS-16\n\nSpaceX CRS-16\n\nLEO\n\nNASA\n\nSuccess\n\n\n\nFailure\n\n66\n\n23 December 2018\n\n13:51\n\nF9 B5\n\nCCAFS\n\nGPS III\n\nGPS III\n\nMEO\n\nUSAF\n\nSuccess\n\nNo attempt\n\n67\n\n11 January 2019\n\n15:31\n\nF9 B5B1049.2\n\nVAFB\n\nIridium NEXT\n\nIridium NEXT\n\nPolar\n\nIridium Communications\n\nSuccess\n\n\n\nSuccess\n\n68\n\n22 February 2019\n\n01:45\n\nF9 B5B1048.3\n\nCCAFS\n\nNusantara Satu\n\nNusantara Satu\n\nGTO\n\nPSN\n\nSuccess\n\n\n\nSuccess\n\n69\n\n2 March 2019\n\n07:49\n\nF9 B5[268]\n\nKSC\n\nCrew Dragon Demo-1\n\nCrew Dragon Demo-1\n\nLEO\n\nNASA\n\nSuccess\n\n\n\nSuccess\n\n70\n\n4 May 2019\n\n06:48\n\nF9 B5\n\nCCAFS\n\nSpaceX CRS-17\n\nSpaceX CRS-17\n\nLEO\n\nNASA\n\nSuccess\n\n\n\nSuccess\n\n71\n\n24 May 2019\n\n02:30\n\nF9 B5B1049.3\n\nCCAFS\n\nStarlink\n\nStarlink\n\nLEO\n\nSpaceX\n\nSuccess\n\n\n\nSuccess\n\n72\n\n12 June 2019\n\n14:17\n\nF9 B5B1051.2\n\nVAFB\n\nRADARSAT Constellation\n\nRADARSAT Constellation\n\nSSO\n\nCanadian Space Agency\n\nSuccess\n\n\n\nSuccess\n\n73\n\n25 July 2019\n\n22:01\n\nF9 B5B1056.2\n\nCCAFS\n\nSpaceX CRS-18\n\nSpaceX CRS-18\n\nLEO\n\nNASA\n\nSuccess\n\n\n\nSuccess\n\n74\n\n6 August 2019\n\n23:23\n\nF9 B5B1047.3\n\nCCAFS\n\nAMOS-17\n\nAMOS-17\n\nGTO\n\nSpacecom\n\nSuccess\n\n\n\nNo attempt\n\n75\n\n11 November 2019\n\n14:56\n\nF9 B5\n\nCCAFS\n\nStarlink\n\nStarlink\n\nLEO\n\nSpaceX\n\nSuccess\n\n\n\nSuccess\n\n76\n\n5 December 2019\n\n17:29\n\nF9 B5\n\nCCAFS\n\nSpaceX CRS-19\n\nSpaceX CRS-19\n\nLEO\n\nNASA\n\nSuccess\n\n\n\nSuccess\n\n77\n\n17 December 2019\n\n00:10\n\nF9 B5B1056.3\n\nCCAFS\n\nJCSat-18\n\nJCSat-18\n\nGTO\n\nSky Perfect JSAT\n\nSuccess\n\n\n\nSuccess\n\n78\n\n7 January 2020\n\n02:19:21\n\nF9 B5\n\nCCAFS\n\nStarlink\n\nStarlink\n\nLEO\n\nSpaceX\n\nSuccess\n\n\n\nSuccess\n\n79\n\n19 January 2020\n\n15:30\n\nF9 B5\n\nKSC\n\nCrew Dragon in-flight abort test\n\nCrew Dragon in-flight abort test\n\nSub-orbital\n\nNASA\n\nSuccess\n\n\n\nNo attempt\n\n\n\n80\n\n29 January 2020\n\n14:07\n\nF9 B5\n\nCCAFS\n\nStarlink\n\nStarlink\n\nLEO\n\nSpaceX\n\nSuccess\n\n\n\nSuccess\n\n81\n\n17 February 2020\n\n15:05\n\nF9 B5\n\nCCAFS\n\nStarlink\n\nStarlink\n\nLEO\n\nSpaceX\n\nSuccess\n\n\n\nFailure\n\n82\n\n7 March 2020\n\n04:50\n\nF9 B5\n\nCCAFS\n\nSpaceX CRS-20\n\nSpaceX CRS-20\n\nLEO\n\nNASA\n\nSuccess\n\n\n\nSuccess\n\n83\n\n18 March 2020\n\n12:16\n\nF9 B5\n\nKSC\n\nStarlink\n\nStarlink\n\nLEO\n\nSpaceX\n\nSuccess\n\n\n\nFailure\n\n84\n\n22 April 2020\n\n19:30\n\nF9 B5\n\nKSC\n\nStarlink\n\nStarlink\n\nLEO\n\nSpaceX\n\nSuccess\n\n\n\nSuccess\n\n85\n\n30 May 2020\n\n19:22\n\nF9 B5\n\nKSC\n\nCrew Dragon Demo-2\n\nCrew Dragon Demo-2\n\nLEO\n\nNASA\n\nSuccess\n\n\n\nSuccess\n\n86\n\n4 June 2020\n\n01:25\n\nF9 B5\n\nCCAFS\n\nStarlink\n\nStarlink\n\nLEO\n\nSpaceX\n\nSuccess\n\n\n\nSuccess\n\n87\n\n13 June 2020\n\n09:21\n\nF9 B5\n\nCCAFS\n\nStarlink\n\nStarlink\n\nLEO\n\nSpaceX\n\nSuccess\n\n\n\nSuccess\n\n88\n\n30 June 2020\n\n20:10:46\n\nF9 B5\n\nCCAFS\n\nGPS III\n\nGPS III\n\nMEO\n\nU.S. Space Force\n\nSuccess\n\n\n\nSuccess\n\n89\n\n20 July 2020\n\n21:30\n\nF9 B5B1058.2\n\nCCAFS\n\nANASIS-II\n\nANASIS-II\n\nGTO\n\nRepublic of Korea Army\n\nSuccess\n\n\n\nSuccess\n\n90\n\n7 August 2020\n\n05:12\n\nF9 B5\n\nKSC\n\nStarlink\n\nStarlink\n\nLEO\n\nSpaceX\n\nSuccess\n\n\n\nSuccess\n\n91\n\n18 August 2020\n\n14:31\n\nF9 B5B1049.6\n\nCCAFS\n\nStarlink\n\nStarlink\n\nLEO\n\nSpaceX\n\nSuccess\n\n\n\nSuccess\n\n92\n\n30 August 2020\n\n23:18\n\nF9 B5\n\nCCAFS\n\nSAOCOM 1B\n\nSAOCOM 1B\n\nSSO\n\nCONAE\n\nSuccess\n\n\n\nSuccess\n\n93\n\n3 September 2020\n\n12:46:14\n\nF9 B5B1060.2\n\nKSC\n\nStarlink\n\nStarlink\n\nLEO\n\nSpaceX\n\nSuccess\n\n\n\nSuccess\n\n94\n\n6 October 2020\n\n11:29:34\n\nF9 B5B1058.3\n\nKSC\n\nStarlink\n\nStarlink\n\nLEO\n\nSpaceX\n\nSuccess\n\n\n\nSuccess\n\n95\n\n18 October 2020\n\n12:25:57\n\nF9 B5B1051.6\n\nKSC\n\nStarlink\n\nStarlink\n\nLEO\n\nSpaceX\n\nSuccess\n\n\n\nSuccess\n\n96\n\n24 October 2020\n\n15:31:34\n\nF9 B5\n\nCCAFS\n\nStarlink\n\nStarlink\n\nLEO\n\nSpaceX\n\nSuccess\n\n\n\nSuccess\n\n97\n\n5 November 2020\n\n23:24:23\n\nF9 B5\n\nCCAFS\n\nGPS III\n\nGPS III\n\nMEO\n\nUSSF\n\nSuccess\n\n\n\nSuccess\n\n98\n\n16 November 2020\n\n00:27\n\nF9 B5\n\nKSC\n\nCrew-1\n\nCrew-1\n\nLEO\n\nNASA\n\nSuccess\n\n\n\nSuccess\n\n99\n\n21 November 2020\n\n17:17:08\n\nF9 B5\n\nVAFB\n\nSentinel-6 Michael Freilich (Jason-CS A)\n\nSentinel-6 Michael Freilich (Jason-CS A)\n\nLEO\n\nNASA\n\nSuccess\n\n\n\nSuccess\n\n100\n\n25 November 2020\n\n02:13\n\nF9 B5 ♺\n\nCCAFS\n\nStarlink\n\nStarlink\n\nLEO\n\nSpaceX\n\nSuccess\n\n\n\nSuccess\n\n101\n\n6 December 2020\n\n16:17:08\n\nF9 B5 ♺\n\nKSC\n\nSpaceX CRS-21\n\nSpaceX CRS-21\n\nLEO\n\nNASA\n\nSuccess\n\n\n\nSuccess\n\n102\n\n13 December 2020\n\n17:30:00\n\nF9 B5 ♺\n\nCCSFS\n\nSXM-7\n\nSXM-7\n\nGTO\n\nSirius XM\n\nSuccess\n\n\n\nSuccess\n\n103\n\n19 December 2020\n\n14:00:00\n\nF9 B5 ♺\n\nKSC\n\nNROL-108\n\nNROL-108\n\nLEO\n\nNRO\n\nSuccess\n\n\n\nSuccess\n\n104\n\n8 January 2021\n\n02:15\n\nF9 B5\n\nCCSFS\n\nTürksat 5A\n\nTürksat 5A\n\nGTO\n\nTürksat\n\nSuccess\n\n\n\nSuccess\n\n105\n\n20 January 2021\n\n13:02\n\nF9 B5B1051.8\n\nKSC\n\nStarlink\n\nStarlink\n\nLEO\n\nSpaceX\n\nSuccess\n\n\n\nSuccess\n\n106\n\n24 January 2021\n\n15:00\n\nF9 B5B1058.5\n\nCCSFS\n\nTransporter-1\n\nTransporter-1\n\nSSO\n\nNone\n\nSuccess\n\n\n\nSuccess\n\n107\n\n4 February 2021\n\n06:19\n\nF9 B5 ♺\n\nCCSFS\n\nStarlink\n\nStarlink\n\nLEO\n\nSpaceX\n\nSuccess\n\n\n\nSuccess\n\n108\n\n16 February 2021\n\n03:59:37\n\nF9 B5 ♺\n\nCCSFS\n\nStarlink\n\nStarlink\n\nLEO\n\nSpaceX\n\nSuccess\n\n\n\nFailure\n\n109\n\n4 March 2021\n\n08:24\n\nF9 B5 ♺\n\nKSC\n\nStarlink\n\nStarlink\n\nLEO\n\nSpaceX\n\nSuccess\n\n\n\nSuccess\n\n110\n\n11 March 2021\n\n08:13:29\n\nF9 B5 ♺\n\nCCSFS\n\nStarlink\n\nStarlink\n\nLEO\n\nSpaceX\n\nSuccess\n\n\n\nSuccess\n\n111\n\n14 March 2021\n\n10:01\n\nF9 B5 ♺\n\nKSC\n\nStarlink\n\nStarlink\n\nLEO\n\nSpaceX\n\nSuccess\n\n\n\nSuccess\n\n112\n\n24 March 2021\n\n08:28\n\nF9 B5B1060.6\n\nCCSFS\n\nStarlink\n\nStarlink\n\nLEO\n\nSpaceX\n\nSuccess\n\n\n\nSuccess\n\n113\n\n7 April 2021\n\n16:34\n\nF9 B5 ♺\n\nCCSFS\n\nStarlink\n\nStarlink\n\nLEO\n\nSpaceX\n\nSuccess\n\n\n\nSuccess\n\n114\n\n23 April 2021\n\n9:49\n\nF9 B5B1061.2\n\nKSC\n\nCrew-2\n\nCrew-2\n\nLEO\n\nNASA\n\nSuccess\n\n\n\nSuccess\n\n115\n\n29 April 2021\n\n03:44\n\nF9 B5B1060.7\n\nCCSFS\n\nStarlink\n\nStarlink\n\nLEO\n\nSpaceX\n\nSuccess\n\n\n\nSuccess\n\n116\n\n4 May 2021\n\n19:01\n\nF9 B5B1049.9\n\nKSC\n\nStarlink\n\nStarlink\n\nLEO\n\nSpaceX\n\nSuccess\n\n\n\nSuccess\n\n117\n\n9 May 2021\n\n06:42\n\nF9 B5B1051.10\n\nCCSFS\n\nStarlink\n\nStarlink\n\nLEO\n\nSpaceX\n\nSuccess\n\n\n\nSuccess\n\n118\n\n15 May 2021\n\n22:56\n\nF9 B5B1058.8\n\nKSC\n\nStarlink\n\nStarlink\n\nLEO\n\nSpaceX\n\nSuccess\n\n\n\nSuccess\n\n119\n\n26 May 2021\n\n18:59\n\nF9 B5B1063.2\n\nCCSFS\n\nStarlink\n\nStarlink\n\nLEO\n\nSpaceX\n\nSuccess\n\n\n\nSuccess\n\n120\n\n3 June 2021\n\n17:29\n\nF9 B5B1067.1\n\nKSC\n\nSpaceX CRS-22\n\nSpaceX CRS-22\n\nLEO\n\nNASA\n\nSuccess\n\n\n\nSuccess\n\n121\n\n6 June 2021\n\n04:26\n\nF9 B5\n\nCCSFS\n\nSXM-8\n\nSXM-8\n\nGTO\n\nSirius XM\n\nSuccess\n\n\n\nSuccess\n\nextracted rows:  121\n"
        }
      ]
    },
    {
      "cell_type": "code",
      "source": "for key in launch_dict:\n    print(key, len(launch_dict[key]))",
      "metadata": {},
      "execution_count": 14,
      "outputs": [
        {
          "name": "stdout",
          "output_type": "stream",
          "text": "Flight No. 121\n\nLaunch site 121\n\nPayload 121\n\nPayload mass 121\n\nOrbit 121\n\nCustomer 121\n\nLaunch outcome 121\n\nVersion Booster 121\n\nBooster landing 121\n\nDate 121\n\nTime 121\n"
        }
      ]
    },
    {
      "cell_type": "markdown",
      "source": "##### Create a dataframe from the dictionary\n",
      "metadata": {}
    },
    {
      "cell_type": "code",
      "source": "df=pd.DataFrame(launch_dict)",
      "metadata": {},
      "execution_count": 15,
      "outputs": []
    },
    {
      "cell_type": "markdown",
      "source": "##### Export it to a <b>CSV</b>\n",
      "metadata": {}
    },
    {
      "cell_type": "code",
      "source": "df.to_csv('spacex_web_scraped.csv', index=False)\n",
      "metadata": {},
      "execution_count": 16,
      "outputs": []
    },
    {
      "cell_type": "code",
      "source": "",
      "metadata": {},
      "execution_count": null,
      "outputs": []
    }
  ]
}